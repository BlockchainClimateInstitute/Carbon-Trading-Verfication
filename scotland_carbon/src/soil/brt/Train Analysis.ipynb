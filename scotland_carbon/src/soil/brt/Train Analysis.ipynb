{
 "cells": [
  {
   "cell_type": "code",
   "execution_count": 1,
   "metadata": {},
   "outputs": [],
   "source": [
    "import numpy as np\n",
    "import pandas as pd\n",
    "import joblib\n",
    "from sklearn.metrics import mean_squared_error, mean_absolute_error, r2_score, mean_absolute_percentage_error\n",
    "from sklearn.ensemble import GradientBoostingRegressor\n",
    "\n",
    "def load_csv_to_pd(csv_file_path):\n",
    "    df = pd.read_csv(csv_file_path, sep=r'\\s*,\\s*', engine='python')\n",
    "    df.drop_duplicates(subset=None, inplace=True)\n",
    "    return df\n",
    "\n",
    "csv_file_path = r\"C:\\Users\\admin\\OneDrive\\Computing\\Yr5 Advanced Computing\\MAC Project\\Carbon-Trading-Verification\\scotland_carbon\\data\\S1AIW_S2AL2A_DEM_IDX_SOCS_SG_300m_processed.csv\"\n",
    "data_df = load_csv_to_pd(csv_file_path)"
   ]
  },
  {
   "cell_type": "code",
   "execution_count": 6,
   "metadata": {},
   "outputs": [
    {
     "data": {
      "text/plain": [
       "1.0"
      ]
     },
     "execution_count": 6,
     "metadata": {},
     "output_type": "execute_result"
    }
   ],
   "source": [
    "data_df['SG_15_30'].min()"
   ]
  },
  {
   "cell_type": "code",
   "execution_count": null,
   "metadata": {},
   "outputs": [],
   "source": []
  }
 ],
 "metadata": {
  "kernelspec": {
   "display_name": "Python 3",
   "language": "python",
   "name": "python3"
  },
  "language_info": {
   "codemirror_mode": {
    "name": "ipython",
    "version": 3
   },
   "file_extension": ".py",
   "mimetype": "text/x-python",
   "name": "python",
   "nbconvert_exporter": "python",
   "pygments_lexer": "ipython3",
   "version": "3.7.3"
  }
 },
 "nbformat": 4,
 "nbformat_minor": 4
}
